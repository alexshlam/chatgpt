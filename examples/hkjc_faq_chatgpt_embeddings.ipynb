{
  "cells": [
    {
      "cell_type": "markdown",
      "id": "c4ca8276-e829-4cff-8905-47534e4b4d4e",
      "metadata": {
        "id": "c4ca8276-e829-4cff-8905-47534e4b4d4e"
      },
      "source": [
        "#A sample to build a HKJC FAQ chatbot by using ChatGPT\n",
        "\n",
        "In this notebook, I would like to demonstrate how to make use of 2 models (GPT-3.5 and Embeddings models) from openai to build a chatbot to answer the questions based on the dateset where there're from faq sections of HKJC public website."
      ]
    },
    {
      "cell_type": "markdown",
      "source": [
        "##Install and define required lib, models and openai API key"
      ],
      "metadata": {
        "id": "-cFl81V12ZMn"
      },
      "id": "-cFl81V12ZMn"
    },
    {
      "cell_type": "markdown",
      "source": [
        "**1. Install and define the required libraries, models and openai api key we have to use for this demo.**"
      ],
      "metadata": {
        "id": "WL01lV9Zhqla"
      },
      "id": "WL01lV9Zhqla"
    },
    {
      "cell_type": "code",
      "source": [
        "pip install --upgrade openai"
      ],
      "metadata": {
        "id": "YhjP-1likjqH"
      },
      "id": "YhjP-1likjqH",
      "execution_count": null,
      "outputs": []
    },
    {
      "cell_type": "code",
      "source": [
        "pip install --upgrade tiktoken"
      ],
      "metadata": {
        "id": "S-oWfAVOlNjF"
      },
      "id": "S-oWfAVOlNjF",
      "execution_count": null,
      "outputs": []
    },
    {
      "cell_type": "code",
      "execution_count": 16,
      "id": "9e3839a6-9146-4f60-b74b-19abbc24278d",
      "metadata": {
        "id": "9e3839a6-9146-4f60-b74b-19abbc24278d"
      },
      "outputs": [],
      "source": [
        "import numpy as np\n",
        "import openai\n",
        "import pandas as pd\n",
        "import pickle\n",
        "import tiktoken\n",
        "\n",
        "COMPLETIONS_MODEL = \"text-davinci-003\"\n",
        "EMBEDDING_MODEL = \"text-embedding-ada-002\""
      ]
    },
    {
      "cell_type": "code",
      "source": [
        "api_key=\"{API-KEY}\"\n",
        "openai.api_key = api_key"
      ],
      "metadata": {
        "id": "KzcQzuBJliyH"
      },
      "id": "KzcQzuBJliyH",
      "execution_count": 17,
      "outputs": []
    },
    {
      "cell_type": "markdown",
      "id": "9312f62f-e208-4030-a648-71ad97aee74f",
      "metadata": {
        "id": "9312f62f-e208-4030-a648-71ad97aee74f"
      },
      "source": [
        "**2. By default, GPT-3.5 doesn't have accurate information related to HKJC faq data. Like the following question, it doesn't response this question correctly.\n",
        "Actually, HKJC operates three public riding schools at Tuen Mun, Pokfulam and Lei Yue Mun. That's, GPT is required to have some assistance here.**"
      ]
    },
    {
      "cell_type": "code",
      "execution_count": 18,
      "id": "a167516c-7c19-4bda-afa5-031aa0ae13bb",
      "metadata": {
        "id": "a167516c-7c19-4bda-afa5-031aa0ae13bb",
        "outputId": "1dafb6f5-667e-4f13-d819-bcbe1c1dea3a",
        "colab": {
          "base_uri": "https://localhost:8080/",
          "height": 53
        }
      },
      "outputs": [
        {
          "output_type": "execute_result",
          "data": {
            "text/plain": [
              "'The Hong Kong Jockey Club provides horse riding courses at its two training centres: the Sha Tin Racecourse and the Beas River Country Club. Both centres offer a range of courses for all levels of riders, from beginners to advanced.'"
            ],
            "application/vnd.google.colaboratory.intrinsic+json": {
              "type": "string"
            }
          },
          "metadata": {},
          "execution_count": 18
        }
      ],
      "source": [
        "prompt = \"Where to learn horse riding courses provided by Hong Kong Jockey Club?\"\n",
        "\n",
        "openai.Completion.create(\n",
        "    prompt=prompt,\n",
        "    temperature=0,\n",
        "    max_tokens=300,\n",
        "    model=COMPLETIONS_MODEL\n",
        ")[\"choices\"][0][\"text\"].strip(\" \\n\")"
      ]
    },
    {
      "cell_type": "markdown",
      "source": [
        "##Set the prompt for unsure answer response\n",
        "\n"
      ],
      "metadata": {
        "id": "17kHmJFF2vBs"
      },
      "id": "17kHmJFF2vBs"
    },
    {
      "cell_type": "markdown",
      "id": "47204cce-a7d5-4c81-ab6e-53323026e08c",
      "metadata": {
        "id": "47204cce-a7d5-4c81-ab6e-53323026e08c"
      },
      "source": [
        "**3. First of all, set the temperature to 0 of the prompt to make the GPT model not to response unsure answer.**\n"
      ]
    },
    {
      "cell_type": "code",
      "execution_count": 46,
      "id": "a5451371-17fe-4ef3-aa02-affcf4edb0e0",
      "metadata": {
        "id": "a5451371-17fe-4ef3-aa02-affcf4edb0e0",
        "outputId": "9f8f5205-c032-402c-f3c5-02b90b1d8157",
        "colab": {
          "base_uri": "https://localhost:8080/",
          "height": 35
        }
      },
      "outputs": [
        {
          "output_type": "execute_result",
          "data": {
            "text/plain": [
              "\"Sorry, I don't have relevant information.\""
            ],
            "application/vnd.google.colaboratory.intrinsic+json": {
              "type": "string"
            }
          },
          "metadata": {},
          "execution_count": 46
        }
      ],
      "source": [
        "prompt = \"\"\"Answer the question as truthfully as possible, and if you're unsure of the answer, say \"Sorry, I don't have relevant information.\"\n",
        "\n",
        "Q: Where to learn horse riding course provided by Hong Kong Jockey Club?\n",
        "A:\"\"\"\n",
        "\n",
        "openai.Completion.create(\n",
        "    prompt=prompt,\n",
        "    temperature=0,\n",
        "    max_tokens=300,\n",
        "    model=COMPLETIONS_MODEL\n",
        ")[\"choices\"][0][\"text\"].strip(\" \\n\")"
      ]
    },
    {
      "cell_type": "markdown",
      "source": [
        "##Provide extra contextual info in the prompt directly"
      ],
      "metadata": {
        "id": "6OZWRTQW3dOV"
      },
      "id": "6OZWRTQW3dOV"
    },
    {
      "cell_type": "markdown",
      "id": "1af18d66-d47a-496d-ae5f-4c5d53caa434",
      "metadata": {
        "id": "1af18d66-d47a-496d-ae5f-4c5d53caa434"
      },
      "source": [
        "**4. To help the model answer the question, we provide extra contextual information in the prompt. When the total required context is short, we can include it in the prompt directly to tell the model to explicitly make use of the provided text.**"
      ]
    },
    {
      "cell_type": "code",
      "execution_count": 65,
      "id": "fceaf665-2602-4788-bc44-9eb256a6f955",
      "metadata": {
        "id": "fceaf665-2602-4788-bc44-9eb256a6f955",
        "outputId": "ada00058-a7f7-435e-c1e6-da9b3d222d88",
        "colab": {
          "base_uri": "https://localhost:8080/",
          "height": 53
        }
      },
      "outputs": [
        {
          "output_type": "execute_result",
          "data": {
            "text/plain": [
              "'The Hong Kong Jockey Club operates three public riding schools at Tuen Mun, Pokfulam, Lei Yue Mun. These schools offer courses and activities for all ages, and are recognized and approved by The British Horse Society.'"
            ],
            "application/vnd.google.colaboratory.intrinsic+json": {
              "type": "string"
            }
          },
          "metadata": {},
          "execution_count": 65
        }
      ],
      "source": [
        "prompt = \"\"\"Answer the question as truthfully as possible using the provided text, and if the answer is not contained within the text below, say \"Sorry, I don't have relevant information.\"\n",
        "\n",
        "Context:\n",
        "The Hong Kong Jockey Club operates three public riding schools at Tuen Mun, Pokfulam, Lei Yue Mun.  \n",
        "The three schools, all recognized and approved by The British Horse Society, offer courses and activities for all ages. \n",
        "\n",
        "Q: Where to learn horse riding course provided by Hong Kong Jockey Club? Can tell me more about it?\n",
        "A:\"\"\"\n",
        "\n",
        "openai.Completion.create(\n",
        "    prompt=prompt,\n",
        "    temperature=0,\n",
        "    max_tokens=300,\n",
        "    top_p=1,\n",
        "    frequency_penalty=0,\n",
        "    presence_penalty=0,\n",
        "    model=COMPLETIONS_MODEL\n",
        ")[\"choices\"][0][\"text\"].strip(\" \\n\")"
      ]
    },
    {
      "cell_type": "markdown",
      "source": [
        "##To build the chatbot with our own custom data on GPT model"
      ],
      "metadata": {
        "id": "-RmDtybj33FK"
      },
      "id": "-RmDtybj33FK"
    },
    {
      "cell_type": "markdown",
      "id": "ee85ee77-d8d2-4788-b57e-0785f2d7e2e3",
      "metadata": {
        "id": "ee85ee77-d8d2-4788-b57e-0785f2d7e2e3"
      },
      "source": [
        "**5. Adding extra information into the prompt only works when the dataset of extra content that the model may need to know is small enough to fit in a single prompt. What do we do when we need the model to choose relevant contextual information from within a large body of information?**\n",
        "\n",
        "In the remainder of this notebook, it will demonstrate a method for augmenting GPT-3.5 with a large body of additional contextual information by using document embeddings and retrieval. This method answers queries in two steps: first it retrieves the information relevant to the query, then it writes an answer tailored to the question based on the retrieved information. The first step uses the [Embeddings API](https://beta.openai.com/docs/guides/embeddings), the second step uses the [Completions API](https://beta.openai.com/docs/guides/completion/introduction).\n",
        " \n",
        "The steps are:\n",
        "* Preprocess the contextual information by splitting it into chunks and create an embedding vector for each chunk.\n",
        "* On receiving a query, embed the query in the same vector space as the context chunks and find the context embeddings which are most similar to the query.\n",
        "* Prepend the most relevant context embeddings to the query prompt.\n",
        "* Submit the question along with the most relevant context to GPT, and receive an answer which makes use of the provided contextual information."
      ]
    },
    {
      "cell_type": "markdown",
      "id": "0c9bfea5-a028-4191-b9f1-f210d76ec4e3",
      "metadata": {
        "id": "0c9bfea5-a028-4191-b9f1-f210d76ec4e3"
      },
      "source": [
        "**6.Preprocess the document library from the relevant dataset:**\n",
        "- Plan to use document embeddings to fetch the most relevant part of parts of our document library and insert them into the prompt that we provide to GPT-3.5. We therefore need to break up the document library into \"sections\" of context, which can be searched and retrieved separately. \n",
        "- Sections should be large enough to contain enough information to answer a question; but small enough to fit one or several into the GPT-3.5 prompt. We \n",
        "find that approximately a paragraph of text is usually a good length, but you should experiment for your particular use case."
      ]
    },
    {
      "cell_type": "code",
      "execution_count": 23,
      "id": "cc9c8d69-e234-48b4-87e3-935970e1523a",
      "metadata": {
        "id": "cc9c8d69-e234-48b4-87e3-935970e1523a",
        "outputId": "9746b1ce-ba68-40cc-ca7f-1c36fdf16638",
        "colab": {
          "base_uri": "https://localhost:8080/",
          "height": 412
        }
      },
      "outputs": [
        {
          "output_type": "stream",
          "name": "stdout",
          "text": [
            "10 rows in the data.\n"
          ]
        },
        {
          "output_type": "execute_result",
          "data": {
            "text/plain": [
              "                                                                                                                  content  \\\n",
              "title               heading                                                                                                 \n",
              "Membership          What is included in the Concession Schemes and ...  Racing Members may join the following concessi...   \n",
              "Horse Racing        I know little about horseracing, Where can I le...  Please click?\"Racing 101\"?and?\"Know About Hors...   \n",
              "Experience Football Which are the top football leagues, teams and s...  European football are widely regarded as the h...   \n",
              "Membership          How do I become a Hong Kong Jockey Club Member?     Anyone aged 18 or above can apply to become a ...   \n",
              "Experience Football I know little about football. How is a football...  Football is contested between 2 teams of 11 pl...   \n",
              "Horse Racing        Where can I find the latest Racing news?            You can find the details there https://racingn...   \n",
              "Membership          How much is the Membership fee for Racing Membe...                                                  c   \n",
              "Horse Racing        I want to have deeper knowledge on Hong Kong ho...  Located at Happy Valley Racecourse, The Hong K...   \n",
              "                    Where can I learn horse riding in Hong Kong? Ar...  Yes. the Club operates three public riding sch...   \n",
              "Experience Football What are the basic factors to consider when I a...  Player injuries and suspensions, both teams' r...   \n",
              "\n",
              "                                                                        tokens  \n",
              "title               heading                                                     \n",
              "Membership          What is included in the Concession Schemes and ...     210  \n",
              "Horse Racing        I know little about horseracing, Where can I le...      10  \n",
              "Experience Football Which are the top football leagues, teams and s...      54  \n",
              "Membership          How do I become a Hong Kong Jockey Club Member?        130  \n",
              "Experience Football I know little about football. How is a football...      33  \n",
              "Horse Racing        Where can I find the latest Racing news?                10  \n",
              "Membership          How much is the Membership fee for Racing Membe...     130  \n",
              "Horse Racing        I want to have deeper knowledge on Hong Kong ho...      14  \n",
              "                    Where can I learn horse riding in Hong Kong? Ar...      30  \n",
              "Experience Football What are the basic factors to consider when I a...      21  "
            ],
            "text/html": [
              "\n",
              "  <div id=\"df-02a4db2a-d99d-4f6b-9bcf-0d82ff089986\">\n",
              "    <div class=\"colab-df-container\">\n",
              "      <div>\n",
              "<style scoped>\n",
              "    .dataframe tbody tr th:only-of-type {\n",
              "        vertical-align: middle;\n",
              "    }\n",
              "\n",
              "    .dataframe tbody tr th {\n",
              "        vertical-align: top;\n",
              "    }\n",
              "\n",
              "    .dataframe thead th {\n",
              "        text-align: right;\n",
              "    }\n",
              "</style>\n",
              "<table border=\"1\" class=\"dataframe\">\n",
              "  <thead>\n",
              "    <tr style=\"text-align: right;\">\n",
              "      <th></th>\n",
              "      <th></th>\n",
              "      <th>content</th>\n",
              "      <th>tokens</th>\n",
              "    </tr>\n",
              "    <tr>\n",
              "      <th>title</th>\n",
              "      <th>heading</th>\n",
              "      <th></th>\n",
              "      <th></th>\n",
              "    </tr>\n",
              "  </thead>\n",
              "  <tbody>\n",
              "    <tr>\n",
              "      <th>Membership</th>\n",
              "      <th>What is included in the Concession Schemes and what are the fees involved?</th>\n",
              "      <td>Racing Members may join the following concessi...</td>\n",
              "      <td>210</td>\n",
              "    </tr>\n",
              "    <tr>\n",
              "      <th>Horse Racing</th>\n",
              "      <th>I know little about horseracing, Where can I learn more about the sport?</th>\n",
              "      <td>Please click?\"Racing 101\"?and?\"Know About Hors...</td>\n",
              "      <td>10</td>\n",
              "    </tr>\n",
              "    <tr>\n",
              "      <th>Experience Football</th>\n",
              "      <th>Which are the top football leagues, teams and star players in the world?</th>\n",
              "      <td>European football are widely regarded as the h...</td>\n",
              "      <td>54</td>\n",
              "    </tr>\n",
              "    <tr>\n",
              "      <th>Membership</th>\n",
              "      <th>How do I become a Hong Kong Jockey Club Member?</th>\n",
              "      <td>Anyone aged 18 or above can apply to become a ...</td>\n",
              "      <td>130</td>\n",
              "    </tr>\n",
              "    <tr>\n",
              "      <th>Experience Football</th>\n",
              "      <th>I know little about football. How is a football match being played?</th>\n",
              "      <td>Football is contested between 2 teams of 11 pl...</td>\n",
              "      <td>33</td>\n",
              "    </tr>\n",
              "    <tr>\n",
              "      <th>Horse Racing</th>\n",
              "      <th>Where can I find the latest Racing news?</th>\n",
              "      <td>You can find the details there https://racingn...</td>\n",
              "      <td>10</td>\n",
              "    </tr>\n",
              "    <tr>\n",
              "      <th>Membership</th>\n",
              "      <th>How much is the Membership fee for Racing Members and Full Members? And what are the benefits?</th>\n",
              "      <td>c</td>\n",
              "      <td>130</td>\n",
              "    </tr>\n",
              "    <tr>\n",
              "      <th rowspan=\"2\" valign=\"top\">Horse Racing</th>\n",
              "      <th>I want to have deeper knowledge on Hong Kong horseracing history. Where can I find the related information?</th>\n",
              "      <td>Located at Happy Valley Racecourse, The Hong K...</td>\n",
              "      <td>14</td>\n",
              "    </tr>\n",
              "    <tr>\n",
              "      <th>Where can I learn horse riding in Hong Kong? Are there any riding courses provided by Hong Kong Jockey Club?</th>\n",
              "      <td>Yes. the Club operates three public riding sch...</td>\n",
              "      <td>30</td>\n",
              "    </tr>\n",
              "    <tr>\n",
              "      <th>Experience Football</th>\n",
              "      <th>What are the basic factors to consider when I am trying to predict a match result?</th>\n",
              "      <td>Player injuries and suspensions, both teams' r...</td>\n",
              "      <td>21</td>\n",
              "    </tr>\n",
              "  </tbody>\n",
              "</table>\n",
              "</div>\n",
              "      <button class=\"colab-df-convert\" onclick=\"convertToInteractive('df-02a4db2a-d99d-4f6b-9bcf-0d82ff089986')\"\n",
              "              title=\"Convert this dataframe to an interactive table.\"\n",
              "              style=\"display:none;\">\n",
              "        \n",
              "  <svg xmlns=\"http://www.w3.org/2000/svg\" height=\"24px\"viewBox=\"0 0 24 24\"\n",
              "       width=\"24px\">\n",
              "    <path d=\"M0 0h24v24H0V0z\" fill=\"none\"/>\n",
              "    <path d=\"M18.56 5.44l.94 2.06.94-2.06 2.06-.94-2.06-.94-.94-2.06-.94 2.06-2.06.94zm-11 1L8.5 8.5l.94-2.06 2.06-.94-2.06-.94L8.5 2.5l-.94 2.06-2.06.94zm10 10l.94 2.06.94-2.06 2.06-.94-2.06-.94-.94-2.06-.94 2.06-2.06.94z\"/><path d=\"M17.41 7.96l-1.37-1.37c-.4-.4-.92-.59-1.43-.59-.52 0-1.04.2-1.43.59L10.3 9.45l-7.72 7.72c-.78.78-.78 2.05 0 2.83L4 21.41c.39.39.9.59 1.41.59.51 0 1.02-.2 1.41-.59l7.78-7.78 2.81-2.81c.8-.78.8-2.07 0-2.86zM5.41 20L4 18.59l7.72-7.72 1.47 1.35L5.41 20z\"/>\n",
              "  </svg>\n",
              "      </button>\n",
              "      \n",
              "  <style>\n",
              "    .colab-df-container {\n",
              "      display:flex;\n",
              "      flex-wrap:wrap;\n",
              "      gap: 12px;\n",
              "    }\n",
              "\n",
              "    .colab-df-convert {\n",
              "      background-color: #E8F0FE;\n",
              "      border: none;\n",
              "      border-radius: 50%;\n",
              "      cursor: pointer;\n",
              "      display: none;\n",
              "      fill: #1967D2;\n",
              "      height: 32px;\n",
              "      padding: 0 0 0 0;\n",
              "      width: 32px;\n",
              "    }\n",
              "\n",
              "    .colab-df-convert:hover {\n",
              "      background-color: #E2EBFA;\n",
              "      box-shadow: 0px 1px 2px rgba(60, 64, 67, 0.3), 0px 1px 3px 1px rgba(60, 64, 67, 0.15);\n",
              "      fill: #174EA6;\n",
              "    }\n",
              "\n",
              "    [theme=dark] .colab-df-convert {\n",
              "      background-color: #3B4455;\n",
              "      fill: #D2E3FC;\n",
              "    }\n",
              "\n",
              "    [theme=dark] .colab-df-convert:hover {\n",
              "      background-color: #434B5C;\n",
              "      box-shadow: 0px 1px 3px 1px rgba(0, 0, 0, 0.15);\n",
              "      filter: drop-shadow(0px 1px 2px rgba(0, 0, 0, 0.3));\n",
              "      fill: #FFFFFF;\n",
              "    }\n",
              "  </style>\n",
              "\n",
              "      <script>\n",
              "        const buttonEl =\n",
              "          document.querySelector('#df-02a4db2a-d99d-4f6b-9bcf-0d82ff089986 button.colab-df-convert');\n",
              "        buttonEl.style.display =\n",
              "          google.colab.kernel.accessAllowed ? 'block' : 'none';\n",
              "\n",
              "        async function convertToInteractive(key) {\n",
              "          const element = document.querySelector('#df-02a4db2a-d99d-4f6b-9bcf-0d82ff089986');\n",
              "          const dataTable =\n",
              "            await google.colab.kernel.invokeFunction('convertToInteractive',\n",
              "                                                     [key], {});\n",
              "          if (!dataTable) return;\n",
              "\n",
              "          const docLinkHtml = 'Like what you see? Visit the ' +\n",
              "            '<a target=\"_blank\" href=https://colab.research.google.com/notebooks/data_table.ipynb>data table notebook</a>'\n",
              "            + ' to learn more about interactive tables.';\n",
              "          element.innerHTML = '';\n",
              "          dataTable['output_type'] = 'display_data';\n",
              "          await google.colab.output.renderOutput(dataTable, element);\n",
              "          const docLink = document.createElement('div');\n",
              "          docLink.innerHTML = docLinkHtml;\n",
              "          element.appendChild(docLink);\n",
              "        }\n",
              "      </script>\n",
              "    </div>\n",
              "  </div>\n",
              "  "
            ]
          },
          "metadata": {},
          "execution_count": 23
        }
      ],
      "source": [
        "# We have hosted the processed dataset, so you can download it directly without having to recreate it.\n",
        "# This dataset has already been split into sections, one row for each section of faq from HKJC public website (partial data)\n",
        "\n",
        "df = pd.read_csv('https://storage.googleapis.com/alexshlam-chatgpt/hkjc_faq_text.csv')\n",
        "df = df.set_index([\"title\", \"heading\"])\n",
        "print(f\"{len(df)} rows in the data.\")\n",
        "df.sample(10)"
      ]
    },
    {
      "cell_type": "markdown",
      "id": "a17b88b9-7ea2-491e-9727-12617c74a77d",
      "metadata": {
        "id": "a17b88b9-7ea2-491e-9727-12617c74a77d"
      },
      "source": [
        "Note: We preprocess the document sections by creating an embedding vector for each section. An embedding is a vector of numbers that helps us understand how semantically similar or different the texts are. The closer two embeddings are to each other, the more similar are their contents. See the [documentation on OpenAI embeddings](https://beta.openai.com/docs/guides/embeddings) for more information.\n"
      ]
    },
    {
      "cell_type": "code",
      "execution_count": 24,
      "id": "ba475f30-ef7f-431c-b60d-d5970b62ad09",
      "metadata": {
        "id": "ba475f30-ef7f-431c-b60d-d5970b62ad09"
      },
      "outputs": [],
      "source": [
        "def get_embedding(text: str, model: str=EMBEDDING_MODEL) -> list[float]:\n",
        "    result = openai.Embedding.create(\n",
        "      model=model,\n",
        "      input=text\n",
        "    )\n",
        "    return result[\"data\"][0][\"embedding\"]\n",
        "\n",
        "def compute_doc_embeddings(df: pd.DataFrame) -> dict[tuple[str, str], list[float]]:\n",
        "    \"\"\"\n",
        "    Create an embedding for each row in the dataframe using the OpenAI Embeddings API.\n",
        "    \n",
        "    Return a dictionary that maps between each embedding vector and the index of the row that it corresponds to.\n",
        "    \"\"\"\n",
        "    return {\n",
        "        idx: get_embedding(r.content) for idx, r in df.iterrows()\n",
        "    }"
      ]
    },
    {
      "cell_type": "code",
      "execution_count": 28,
      "id": "ab50bfca-cb02-41c6-b338-4400abe1d86e",
      "metadata": {
        "id": "ab50bfca-cb02-41c6-b338-4400abe1d86e"
      },
      "outputs": [],
      "source": [
        "document_embeddings = compute_doc_embeddings(df)"
      ]
    },
    {
      "cell_type": "code",
      "execution_count": 29,
      "id": "b9a8c713-c8a9-47dc-85a4-871ee1395566",
      "metadata": {
        "id": "b9a8c713-c8a9-47dc-85a4-871ee1395566",
        "outputId": "3091301e-7785-4d16-e908-7b76b0c52e54",
        "colab": {
          "base_uri": "https://localhost:8080/"
        }
      },
      "outputs": [
        {
          "output_type": "stream",
          "name": "stdout",
          "text": [
            "('Horse Racing ', 'I know little about horseracing, Where can I learn more about the sport?') : [-0.003935437183827162, 0.00815497525036335, -0.0015714308246970177, -0.036571480333805084, -0.033988747745752335]... (1536 entries)\n"
          ]
        }
      ],
      "source": [
        "# An example embedding:\n",
        "example_entry = list(document_embeddings.items())[0]\n",
        "print(f\"{example_entry[0]} : {example_entry[1][:5]}... ({len(example_entry[1])} entries)\")"
      ]
    },
    {
      "cell_type": "markdown",
      "id": "aa32cf88-9edb-4dc6-b4cf-a16a8de7d304",
      "metadata": {
        "tags": [],
        "id": "aa32cf88-9edb-4dc6-b4cf-a16a8de7d304"
      },
      "source": [
        "**7. So we have split our document library into sections, and encoded them by creating embedding vectors that represent each chunk. Next we will use these embeddings to answer our users' questions.**\n"
      ]
    },
    {
      "cell_type": "markdown",
      "source": [
        "**8. Find the most similar document embeddings to the question embedding:** \n",
        "- At the time of question-answering, to answer the user's query we compute the query embedding of the question and use it to find the most similar document sections."
      ],
      "metadata": {
        "id": "qtLKZeXWtgyG"
      },
      "id": "qtLKZeXWtgyG"
    },
    {
      "cell_type": "code",
      "execution_count": 30,
      "id": "dcd680e9-f194-4180-b14f-fc357498eb92",
      "metadata": {
        "id": "dcd680e9-f194-4180-b14f-fc357498eb92"
      },
      "outputs": [],
      "source": [
        "def vector_similarity(x: list[float], y: list[float]) -> float:\n",
        "    \"\"\"\n",
        "    Returns the similarity between two vectors.\n",
        "    \n",
        "    Because OpenAI Embeddings are normalized to length 1, the cosine similarity is the same as the dot product.\n",
        "    \"\"\"\n",
        "    return np.dot(np.array(x), np.array(y))\n",
        "\n",
        "def order_document_sections_by_query_similarity(query: str, contexts: dict[(str, str), np.array]) -> list[(float, (str, str))]:\n",
        "    \"\"\"\n",
        "    Find the query embedding for the supplied query, and compare it against all of the pre-calculated document embeddings\n",
        "    to find the most relevant sections. \n",
        "    \n",
        "    Return the list of document sections, sorted by relevance in descending order.\n",
        "    \"\"\"\n",
        "    query_embedding = get_embedding(query)\n",
        "    \n",
        "    document_similarities = sorted([\n",
        "        (vector_similarity(query_embedding, doc_embedding), doc_index) for doc_index, doc_embedding in contexts.items()\n",
        "    ], reverse=True)\n",
        "    \n",
        "    return document_similarities"
      ]
    },
    {
      "cell_type": "code",
      "execution_count": 68,
      "id": "e3a27d73-f47f-480d-b336-079414f749cb",
      "metadata": {
        "id": "e3a27d73-f47f-480d-b336-079414f749cb",
        "outputId": "84ba09a3-b24c-4659-a2f9-72fc3022d661",
        "colab": {
          "base_uri": "https://localhost:8080/"
        }
      },
      "outputs": [
        {
          "output_type": "execute_result",
          "data": {
            "text/plain": [
              "[(0.8421600772648534,\n",
              "  ('Horse Racing ',\n",
              "   'I know little about horseracing, Where can I learn more about the sport?')),\n",
              " (0.8285157612694096,\n",
              "  ('Horse Racing ',\n",
              "   'Where can I learn horse riding in Hong Kong? Are there any riding courses provided by Hong Kong Jockey Club?')),\n",
              " (0.8060660295010802,\n",
              "  ('Horse Racing ',\n",
              "   'I want to have deeper knowledge on Hong Kong horseracing history. Where can I find the related information?')),\n",
              " (0.7796799688026859,\n",
              "  ('Horse Racing ', 'Where can I find the latest Racing news?')),\n",
              " (0.7617852025579473,\n",
              "  ('Membership', 'How do I become a Hong Kong Jockey Club Member?'))]"
            ]
          },
          "metadata": {},
          "execution_count": 68
        }
      ],
      "source": [
        "order_document_sections_by_query_similarity(\"Where to learn horse riding?\", document_embeddings)[:5]"
      ]
    },
    {
      "cell_type": "code",
      "execution_count": 69,
      "id": "729c2ce7-8540-4ab2-bb3a-76c4dfcb689c",
      "metadata": {
        "id": "729c2ce7-8540-4ab2-bb3a-76c4dfcb689c",
        "outputId": "54c5cc84-eb6e-4b59-9c05-f93cc8978108",
        "colab": {
          "base_uri": "https://localhost:8080/"
        }
      },
      "outputs": [
        {
          "output_type": "execute_result",
          "data": {
            "text/plain": [
              "[(0.860636031189496,\n",
              "  ('Horse Racing ',\n",
              "   'Where can I learn horse riding in Hong Kong? Are there any riding courses provided by Hong Kong Jockey Club?')),\n",
              " (0.853733839524847,\n",
              "  ('Horse Racing ', 'Where can I find the latest Racing news?')),\n",
              " (0.8354852763608227,\n",
              "  ('Horse Racing ',\n",
              "   'I know little about horseracing, Where can I learn more about the sport?')),\n",
              " (0.8329132193851098,\n",
              "  ('Horse Racing ',\n",
              "   'I want to have deeper knowledge on Hong Kong horseracing history. Where can I find the related information?')),\n",
              " (0.80637284279489,\n",
              "  ('Membership', 'How do I become a Hong Kong Jockey Club Member?'))]"
            ]
          },
          "metadata": {},
          "execution_count": 69
        }
      ],
      "source": [
        "order_document_sections_by_query_similarity(\"Can let me know where can I learn horse riding courses from HKJC?\", document_embeddings)[:5]"
      ]
    },
    {
      "cell_type": "markdown",
      "id": "3cf71fae-abb1-46b2-a483-c1b2f1a915c2",
      "metadata": {
        "id": "3cf71fae-abb1-46b2-a483-c1b2f1a915c2"
      },
      "source": [
        "Note: We can see that the most relevant document sections for each question."
      ]
    },
    {
      "cell_type": "markdown",
      "id": "a0efa0f6-4469-457a-89a4-a2f5736a01e0",
      "metadata": {
        "id": "a0efa0f6-4469-457a-89a4-a2f5736a01e0"
      },
      "source": [
        "**9. Add the most relevant document sections to the query prompt:**\n",
        "- Once we've calculated the most relevant pieces of context, we construct a prompt by simply prepending them to the supplied query. It is helpful to use a query separator to help the model distinguish between separate pieces of text."
      ]
    },
    {
      "cell_type": "code",
      "execution_count": 36,
      "id": "b763ace2-1946-48e0-8ff1-91ba335d47a0",
      "metadata": {
        "id": "b763ace2-1946-48e0-8ff1-91ba335d47a0",
        "outputId": "41d5ff26-8d3b-4f6e-88fe-992a7ededa86",
        "colab": {
          "base_uri": "https://localhost:8080/",
          "height": 35
        }
      },
      "outputs": [
        {
          "output_type": "execute_result",
          "data": {
            "text/plain": [
              "'Context separator contains 3 tokens'"
            ],
            "application/vnd.google.colaboratory.intrinsic+json": {
              "type": "string"
            }
          },
          "metadata": {},
          "execution_count": 36
        }
      ],
      "source": [
        "MAX_SECTION_LEN = 500\n",
        "SEPARATOR = \"\\n* \"\n",
        "ENCODING = \"gpt2\"  # encoding for text-davinci-003\n",
        "\n",
        "encoding = tiktoken.get_encoding(ENCODING)\n",
        "separator_len = len(encoding.encode(SEPARATOR))\n",
        "\n",
        "f\"Context separator contains {separator_len} tokens\""
      ]
    },
    {
      "cell_type": "code",
      "execution_count": 52,
      "id": "0c5c0509-eeb9-4552-a5d4-6ace04ef73dd",
      "metadata": {
        "id": "0c5c0509-eeb9-4552-a5d4-6ace04ef73dd"
      },
      "outputs": [],
      "source": [
        "def construct_prompt(question: str, context_embeddings: dict, df: pd.DataFrame) -> str:\n",
        "    \"\"\"\n",
        "    Fetch relevant \n",
        "    \"\"\"\n",
        "    most_relevant_document_sections = order_document_sections_by_query_similarity(question, context_embeddings)\n",
        "    \n",
        "    chosen_sections = []\n",
        "    chosen_sections_len = 0\n",
        "    chosen_sections_indexes = []\n",
        "     \n",
        "    for _, section_index in most_relevant_document_sections:\n",
        "        # Add contexts until we run out of space.        \n",
        "        document_section = df.loc[section_index]\n",
        "        \n",
        "        chosen_sections_len += document_section.tokens + separator_len\n",
        "        if chosen_sections_len > MAX_SECTION_LEN:\n",
        "            break\n",
        "            \n",
        "        chosen_sections.append(SEPARATOR + document_section.content.replace(\"\\n\", \" \"))\n",
        "        chosen_sections_indexes.append(str(section_index))\n",
        "            \n",
        "    # Useful diagnostic information\n",
        "    print(f\"Selected {len(chosen_sections)} document sections:\")\n",
        "    print(\"\\n\".join(chosen_sections_indexes))\n",
        "    \n",
        "    header = \"\"\"Answer the question as truthfully as possible using the provided context, and if the answer is not contained within the text below, say \"I don't have relevant information.\"\\n\\nContext:\\n\"\"\"\n",
        "    \n",
        "    return header + \"\".join(chosen_sections) + \"\\n\\n Q: \" + question + \"\\n A:\""
      ]
    },
    {
      "cell_type": "code",
      "execution_count": 70,
      "id": "f614045a-3917-4b28-9643-7e0c299ec1a7",
      "metadata": {
        "id": "f614045a-3917-4b28-9643-7e0c299ec1a7",
        "outputId": "2f151350-f084-41e0-dad6-cac9fcbad340",
        "colab": {
          "base_uri": "https://localhost:8080/"
        }
      },
      "outputs": [
        {
          "output_type": "stream",
          "name": "stdout",
          "text": [
            "Selected 6 document sections:\n",
            "('Horse Racing ', 'I know little about horseracing, Where can I learn more about the sport?')\n",
            "('Horse Racing ', 'Where can I learn horse riding in Hong Kong? Are there any riding courses provided by Hong Kong Jockey Club?')\n",
            "('Horse Racing ', 'I want to have deeper knowledge on Hong Kong horseracing history. Where can I find the related information?')\n",
            "('Horse Racing ', 'Where can I find the latest Racing news?')\n",
            "('Membership', 'How do I become a Hong Kong Jockey Club Member?')\n",
            "('Membership', 'How much is the Membership fee for Racing Members and Full Members? And what are the benefits?')\n",
            "===\n",
            " Answer the question as truthfully as possible using the provided context, and if the answer is not contained within the text below, say \"I don't have relevant information.\"\n",
            "\n",
            "Context:\n",
            "\n",
            "* Please click?\"Racing 101\"?and?\"Know About Horses\"?for details.\n",
            "* Yes. the Club operates three public riding schools at Tuen Mun, Pokfulam, Lei Yue Mun.? The three schools, all recognized and approved by The British Horse Society, offer courses and activities for all ages.? Please click?here?for details.\n",
            "* Located at Happy Valley Racecourse, The Hong Kong Racing Museum preserves horseracing development and Hong Kong horseracing history.\n",
            "* You can find the details there https://racingnews.hkjc.com/english/\n",
            "* Anyone aged 18 or above can apply to become a Hong Kong Jockey Club Member.  To apply for Racing Membership, the applicant must be proposed by a resident Honorary Steward, Honorary Voting Member or Voting Member of the Club and seconded by another resident Honorary Steward, Honorary Voting Member or Voting Member.  There also needs to be three Club Members who are prepared to support the application.  To apply for Full Membership, the applicant must fill in the application form for Racing Membership as well as a separate application form for Full Membership and return both forms to the Club.  The application form for Full Membership can be obtained from resident Honorary Stewards, Honorary Voting Members (O) or Voting Members.  The Club has 200 Voting Members. You can contact the Membership Services Department for the latest list of Voting Members.  Applications for Membership are determined at the absolute discretion of the Stewards of the Club.  Applicants should refer to the terms and conditions for application in the relevant Membership application form.\n",
            "* c\n",
            "\n",
            " Q: Where to learn horse riding?\n",
            " A:\n"
          ]
        }
      ],
      "source": [
        "prompt = construct_prompt(\n",
        "    \"Where to learn horse riding?\",\n",
        "    document_embeddings,\n",
        "    df\n",
        ")\n",
        "\n",
        "print(\"===\\n\", prompt)"
      ]
    },
    {
      "cell_type": "markdown",
      "id": "1b022fd4-0a3c-4ae1-bed1-4c80e4f0fb56",
      "metadata": {
        "tags": [],
        "id": "1b022fd4-0a3c-4ae1-bed1-4c80e4f0fb56"
      },
      "source": [
        "Note: We have now obtained the document sections that are most relevant to the question. As a final step, let's put it all together to get an answer to the question.\n",
        "\n",
        "**10. Answer the user's question based on the context:**\n",
        "- Now that we've retrieved the relevant context and constructed our prompt, we can finally use the Completions API to answer the user's query."
      ]
    },
    {
      "cell_type": "code",
      "execution_count": 71,
      "id": "b0edfec7-9243-4573-92e0-253d31c771ad",
      "metadata": {
        "id": "b0edfec7-9243-4573-92e0-253d31c771ad"
      },
      "outputs": [],
      "source": [
        "COMPLETIONS_API_PARAMS = {\n",
        "    # We use temperature of 0.0 because it gives the most predictable, factual answer.\n",
        "    \"temperature\": 0,\n",
        "    \"max_tokens\": 300,\n",
        "    \"model\": COMPLETIONS_MODEL,\n",
        "}"
      ]
    },
    {
      "cell_type": "code",
      "execution_count": 72,
      "id": "9c1c9a69-848e-4099-a90d-c8da36c153d5",
      "metadata": {
        "id": "9c1c9a69-848e-4099-a90d-c8da36c153d5"
      },
      "outputs": [],
      "source": [
        "def answer_query_with_context(\n",
        "    query: str,\n",
        "    df: pd.DataFrame,\n",
        "    document_embeddings: dict[(str, str), np.array],\n",
        "    show_prompt: bool = False\n",
        ") -> str:\n",
        "    prompt = construct_prompt(\n",
        "        query,\n",
        "        document_embeddings,\n",
        "        df\n",
        "    )\n",
        "    \n",
        "    if show_prompt:\n",
        "        print(prompt)\n",
        "\n",
        "    response = openai.Completion.create(\n",
        "                prompt=prompt,\n",
        "                **COMPLETIONS_API_PARAMS\n",
        "            )\n",
        "\n",
        "    return response[\"choices\"][0][\"text\"].strip(\" \\n\")"
      ]
    },
    {
      "cell_type": "code",
      "execution_count": 63,
      "id": "c233e449-bf33-4c9e-b095-6a4dd278c8fd",
      "metadata": {
        "id": "c233e449-bf33-4c9e-b095-6a4dd278c8fd",
        "outputId": "23e80e27-c423-4f94-d303-9914163ab3c1",
        "colab": {
          "base_uri": "https://localhost:8080/",
          "height": 157
        }
      },
      "outputs": [
        {
          "output_type": "stream",
          "name": "stdout",
          "text": [
            "Selected 6 document sections:\n",
            "('Horse Racing ', 'Where can I learn horse riding in Hong Kong? Are there any riding courses provided by Hong Kong Jockey Club?')\n",
            "('Horse Racing ', 'Where can I find the latest Racing news?')\n",
            "('Horse Racing ', 'I want to have deeper knowledge on Hong Kong horseracing history. Where can I find the related information?')\n",
            "('Horse Racing ', 'I know little about horseracing, Where can I learn more about the sport?')\n",
            "('Membership', 'How do I become a Hong Kong Jockey Club Member?')\n",
            "('Membership', 'What is included in the Concession Schemes and what are the fees involved?')\n"
          ]
        },
        {
          "output_type": "execute_result",
          "data": {
            "text/plain": [
              "'The Hong Kong Jockey Club operates three public riding schools at Tuen Mun, Pokfulam, and Lei Yue Mun. Please click here for details.'"
            ],
            "application/vnd.google.colaboratory.intrinsic+json": {
              "type": "string"
            }
          },
          "metadata": {},
          "execution_count": 63
        }
      ],
      "source": [
        "answer_query_with_context(\"Where to learn horse riding provided by HKJC?\", df, document_embeddings)"
      ]
    },
    {
      "cell_type": "markdown",
      "source": [
        "##Showcase how to use Embeddings and Completion APIs for HKJC FAQ chatbot"
      ],
      "metadata": {
        "id": "rglo1n4X5Hfm"
      },
      "id": "rglo1n4X5Hfm"
    },
    {
      "cell_type": "markdown",
      "id": "7b48d155-d2d4-447c-ab8e-5a5b4722b07c",
      "metadata": {
        "id": "7b48d155-d2d4-447c-ab8e-5a5b4722b07c"
      },
      "source": [
        "**11. By combining the Embeddings and Completions APIs, we have created a question-answering model which can answer questions using a large base of additional knowledge. It also understands when it doesn't know the answer!** \n",
        "\n",
        "-- Let's have some fun and try some more examples: "
      ]
    },
    {
      "cell_type": "code",
      "execution_count": 73,
      "id": "1127867b-2884-44bb-9439-0e8ae171c835",
      "metadata": {
        "id": "1127867b-2884-44bb-9439-0e8ae171c835",
        "outputId": "fbecac80-5cca-42c5-9b75-29160a806a2f",
        "colab": {
          "base_uri": "https://localhost:8080/"
        }
      },
      "outputs": [
        {
          "output_type": "stream",
          "name": "stdout",
          "text": [
            "Selected 6 document sections:\n",
            "('Horse Racing ', 'Where can I learn horse riding in Hong Kong? Are there any riding courses provided by Hong Kong Jockey Club?')\n",
            "('Horse Racing ', 'Where can I find the latest Racing news?')\n",
            "('Horse Racing ', 'I want to have deeper knowledge on Hong Kong horseracing history. Where can I find the related information?')\n",
            "('Horse Racing ', 'I know little about horseracing, Where can I learn more about the sport?')\n",
            "('Membership', 'How do I become a Hong Kong Jockey Club Member?')\n",
            "('Membership', 'What is included in the Concession Schemes and what are the fees involved?')\n",
            "\n",
            "Q: Where to learn horse riding provided by HKJC?\n",
            "A: The Hong Kong Jockey Club operates three public riding schools at Tuen Mun, Pokfulam, and Lei Yue Mun. Please click here for details.\n"
          ]
        }
      ],
      "source": [
        "query = \"Where to learn horse riding provided by HKJC?\"\n",
        "answer = answer_query_with_context(query, df, document_embeddings)\n",
        "\n",
        "print(f\"\\nQ: {query}\\nA: {answer}\")"
      ]
    },
    {
      "cell_type": "code",
      "execution_count": 56,
      "id": "720d9e0b-b189-4101-91ee-babf736199e6",
      "metadata": {
        "id": "720d9e0b-b189-4101-91ee-babf736199e6",
        "outputId": "f539edf7-78c7-4cd9-f763-f95769e7d4c3",
        "colab": {
          "base_uri": "https://localhost:8080/"
        }
      },
      "outputs": [
        {
          "output_type": "stream",
          "name": "stdout",
          "text": [
            "Selected 6 document sections:\n",
            "('Membership', 'How do I become a Hong Kong Jockey Club Member?')\n",
            "('Horse Racing ', 'Where can I find the latest Racing news?')\n",
            "('Horse Racing ', 'Where can I learn horse riding in Hong Kong? Are there any riding courses provided by Hong Kong Jockey Club?')\n",
            "('Membership', 'What is included in the Concession Schemes and what are the fees involved?')\n",
            "('Horse Racing ', 'I want to have deeper knowledge on Hong Kong horseracing history. Where can I find the related information?')\n",
            "('Horse Racing ', 'I know little about horseracing, Where can I learn more about the sport?')\n",
            "\n",
            "Q: How do I become a Hong Kong Jockey Club Member?\n",
            "A: To become a Hong Kong Jockey Club Member, you must be 18 or above and fill in the application form for Racing Membership as well as a separate application form for Full Membership and return both forms to the Club. The application form for Full Membership can be obtained from resident Honorary Stewards, Honorary Voting Members (O) or Voting Members. The Club has 200 Voting Members. You can contact the Membership Services Department for the latest list of Voting Members. Applications for Membership are determined at the absolute discretion of the Stewards of the Club. Applicants should refer to the terms and conditions for application in the relevant Membership application form.\n"
          ]
        }
      ],
      "source": [
        "query = \"How do I become a Hong Kong Jockey Club Member?\"\n",
        "answer = answer_query_with_context(query, df, document_embeddings)\n",
        "\n",
        "print(f\"\\nQ: {query}\\nA: {answer}\")"
      ]
    },
    {
      "cell_type": "code",
      "execution_count": 67,
      "id": "4e8e51cc-e4eb-4557-9e09-2929d4df5b7f",
      "metadata": {
        "id": "4e8e51cc-e4eb-4557-9e09-2929d4df5b7f",
        "outputId": "c708dc04-9ca5-438a-b762-8d71f4d40811",
        "colab": {
          "base_uri": "https://localhost:8080/"
        }
      },
      "outputs": [
        {
          "output_type": "stream",
          "name": "stdout",
          "text": [
            "Selected 9 document sections:\n",
            "('Experience Football', 'Which are the top football leagues, teams and star players in the world?')\n",
            "('Experience Football', 'I know little about football. How is a football match being played?')\n",
            "('Experience Football', 'What are the basic factors to consider when I am trying to predict a match result?')\n",
            "('Horse Racing ', 'I know little about horseracing, Where can I learn more about the sport?')\n",
            "('Membership', 'How much is the Membership fee for Racing Members and Full Members? And what are the benefits?')\n",
            "('Horse Racing ', 'Where can I learn horse riding in Hong Kong? Are there any riding courses provided by Hong Kong Jockey Club?')\n",
            "('Horse Racing ', 'Where can I find the latest Racing news?')\n",
            "('Horse Racing ', 'I want to have deeper knowledge on Hong Kong horseracing history. Where can I find the related information?')\n",
            "('Membership', 'How do I become a Hong Kong Jockey Club Member?')\n",
            "\n",
            "Q: Which are the top football leagues, teams and star players in the world?\n",
            "A: The top football leagues in the world are England, Germany, Italy and Spain. Famous English clubs are Manchester Utd, Arsenal, Liverpool and Chelsea; Germany have Bayern Munich; Italy have AC Milan, Inter Milan, Roma and Juventus; Spain have Real Madrid and Barcelona. The most famous football stars are Messi, Cristiano Ronaldo, Rooney and Villa.\n"
          ]
        }
      ],
      "source": [
        "query = \"Which are the top football leagues, teams and star players in the world?\"\n",
        "answer = answer_query_with_context(query, df, document_embeddings)\n",
        "\n",
        "print(f\"\\nQ: {query}\\nA: {answer}\")"
      ]
    },
    {
      "cell_type": "code",
      "execution_count": 58,
      "id": "37c83519-e3c6-4c44-8b4a-98cbb3a5f5ba",
      "metadata": {
        "id": "37c83519-e3c6-4c44-8b4a-98cbb3a5f5ba",
        "outputId": "4132b22b-4736-46bd-9c02-08552094e855",
        "colab": {
          "base_uri": "https://localhost:8080/"
        }
      },
      "outputs": [
        {
          "output_type": "stream",
          "name": "stdout",
          "text": [
            "Selected 7 document sections:\n",
            "('Horse Racing ', 'Where can I find the latest Racing news?')\n",
            "('Horse Racing ', 'I know little about horseracing, Where can I learn more about the sport?')\n",
            "('Horse Racing ', 'I want to have deeper knowledge on Hong Kong horseracing history. Where can I find the related information?')\n",
            "('Experience Football', 'What are the basic factors to consider when I am trying to predict a match result?')\n",
            "('Membership', 'How do I become a Hong Kong Jockey Club Member?')\n",
            "('Horse Racing ', 'Where can I learn horse riding in Hong Kong? Are there any riding courses provided by Hong Kong Jockey Club?')\n",
            "('Membership', 'How much is the Membership fee for Racing Members and Full Members? And what are the benefits?')\n",
            "\n",
            "Q: Where can I get the latest racing news?\n",
            "A: You can find the latest racing news at https://racingnews.hkjc.com/english/.\n"
          ]
        }
      ],
      "source": [
        "query = \"Where can I get the latest racing news?\"\n",
        "answer = answer_query_with_context(query, df, document_embeddings)\n",
        "\n",
        "print(f\"\\nQ: {query}\\nA: {answer}\")"
      ]
    },
    {
      "cell_type": "markdown",
      "id": "177c945e-f5c4-4fa5-8331-44f328b25e44",
      "metadata": {
        "id": "177c945e-f5c4-4fa5-8331-44f328b25e44"
      },
      "source": [
        "Our Q&A model is less prone to hallucinating answers, and has a better sense of what it does or doesn't know. This works when the information isn't contained in the context when the question is not relevant. "
      ]
    },
    {
      "cell_type": "code",
      "execution_count": 74,
      "id": "26a1a9ef-e1ee-4f80-a1b1-6164ccfa5bac",
      "metadata": {
        "id": "26a1a9ef-e1ee-4f80-a1b1-6164ccfa5bac",
        "outputId": "29673c1d-71ca-4097-fe34-79b672b60444",
        "colab": {
          "base_uri": "https://localhost:8080/"
        }
      },
      "outputs": [
        {
          "output_type": "stream",
          "name": "stdout",
          "text": [
            "Selected 9 document sections:\n",
            "('Experience Football', 'Which are the top football leagues, teams and star players in the world?')\n",
            "('Experience Football', 'I know little about football. How is a football match being played?')\n",
            "('Experience Football', 'What are the basic factors to consider when I am trying to predict a match result?')\n",
            "('Membership', 'How much is the Membership fee for Racing Members and Full Members? And what are the benefits?')\n",
            "('Horse Racing ', 'Where can I find the latest Racing news?')\n",
            "('Horse Racing ', 'Where can I learn horse riding in Hong Kong? Are there any riding courses provided by Hong Kong Jockey Club?')\n",
            "('Horse Racing ', 'I know little about horseracing, Where can I learn more about the sport?')\n",
            "('Horse Racing ', 'I want to have deeper knowledge on Hong Kong horseracing history. Where can I find the related information?')\n",
            "('Membership', 'How do I become a Hong Kong Jockey Club Member?')\n",
            "\n",
            "Q: WHich team won the champion leagues in 2020?\n",
            "A: I don't have relevant information.\n"
          ]
        }
      ],
      "source": [
        "query = \"WHich team won the champion leagues in 2020?\"\n",
        "answer = answer_query_with_context(query, df, document_embeddings)\n",
        "\n",
        "print(f\"\\nQ: {query}\\nA: {answer}\")"
      ]
    }
  ],
  "metadata": {
    "kernelspec": {
      "display_name": "Python 3.9.9 ('openai')",
      "language": "python",
      "name": "python3"
    },
    "language_info": {
      "codemirror_mode": {
        "name": "ipython",
        "version": 3
      },
      "file_extension": ".py",
      "mimetype": "text/x-python",
      "name": "python",
      "nbconvert_exporter": "python",
      "pygments_lexer": "ipython3",
      "version": "3.9.9"
    },
    "vscode": {
      "interpreter": {
        "hash": "365536dcbde60510dc9073d6b991cd35db2d9bac356a11f5b64279a5e6708b97"
      }
    },
    "colab": {
      "provenance": [],
      "toc_visible": true
    }
  },
  "nbformat": 4,
  "nbformat_minor": 5
}